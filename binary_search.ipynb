{
 "cells": [
  {
   "cell_type": "markdown",
   "metadata": {},
   "source": [
    "Oops!! Something went wrong.\n",
    "Not to worry we will be up and running shortly.\n",
    "You may try again later or report this issue at support@geeksforgeeks.org\n",
    "Not Found\n",
    "Go back to Homepage\n",
    "\n",
    "The error that continues to appear for this exercise."
   ]
  }
 ],
 "metadata": {
  "language_info": {
   "name": "python"
  }
 },
 "nbformat": 4,
 "nbformat_minor": 2
}
