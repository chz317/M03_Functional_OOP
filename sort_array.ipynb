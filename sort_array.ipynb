{
 "cells": [
  {
   "cell_type": "markdown",
   "metadata": {},
   "source": [
    "Given an array of size N containing only 0s, 1s, and 2s; sort the array in ascending order.\n",
    "\n",
    "\n",
    "Example 1:\n",
    "\n",
    "Input: \n",
    "N = 5\n",
    "arr[]= {0 2 1 2 0}\n",
    "Output:\n",
    "0 0 1 2 2\n",
    "Explanation:\n",
    "0s 1s and 2s are segregated \n",
    "into ascending order.\n",
    "Example 2:\n",
    "\n",
    "Input: \n",
    "N = 3\n",
    "arr[] = {0 1 0}\n",
    "Output:\n",
    "0 0 1\n",
    "Explanation:\n",
    "0s 1s and 2s are segregated \n",
    "into ascending order.\n",
    "\n",
    "Your Task:\n",
    "You don't need to read input or print anything. Your task is to complete the function sort012() that takes an array arr and N as input parameters and sorts the array in-place.\n",
    "\n",
    "\n",
    "Expected Time Complexity: O(N)\n",
    "Expected Auxiliary Space: O(1)\n",
    "\n",
    "\n",
    "Constraints:\n",
    "1 <= N <= 10^6\n",
    "0 <= A[i] <= 2"
   ]
  },
  {
   "cell_type": "code",
   "execution_count": 6,
   "metadata": {},
   "outputs": [],
   "source": [
    "class Solution:\n",
    "    def sort012(self, arr, n):\n",
    "        count0, count1, count2 = 0, 0, 0\n",
    "        for num in arr:\n",
    "            if num == 0:\n",
    "                count0 += 1\n",
    "            elif num == 1:\n",
    "                count1 += 1\n",
    "            else:\n",
    "                count2 += 1\n",
    "        index = 0\n",
    "        for i in range(count0):\n",
    "            arr[index] = 0\n",
    "            index += 1\n",
    "        for i in range(count1):\n",
    "            arr[index] = 1\n",
    "            index += 1\n",
    "        for i in range(count2):\n",
    "            arr[index] = 2\n",
    "            index += 1"
   ]
  }
 ],
 "metadata": {
  "kernelspec": {
   "display_name": "Python 3",
   "language": "python",
   "name": "python3"
  },
  "language_info": {
   "codemirror_mode": {
    "name": "ipython",
    "version": 3
   },
   "file_extension": ".py",
   "mimetype": "text/x-python",
   "name": "python",
   "nbconvert_exporter": "python",
   "pygments_lexer": "ipython3",
   "version": "3.12.0"
  }
 },
 "nbformat": 4,
 "nbformat_minor": 2
}
